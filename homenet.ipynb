{
 "cells": [
  {
   "cell_type": "markdown",
   "source": [
    "# Homenet"
   ],
   "metadata": {
    "collapsed": false
   },
   "id": "9061b279bbc7effe"
  },
  {
   "cell_type": "code",
   "outputs": [],
   "source": [
    "from pyspark.sql import SparkSession\n",
    "spark = SparkSession.builder.appName(\"Homenet\").config(\"spark.memory.offHeap.enabled\", \"true\").config(\n",
    "    \"spark.memory.offHeap.size\", \"10g\").getOrCreate()"
   ],
   "metadata": {
    "collapsed": true,
    "ExecuteTime": {
     "end_time": "2024-02-19T12:58:02.024473Z",
     "start_time": "2024-02-19T12:58:02.020661Z"
    }
   },
   "id": "initial_id",
   "execution_count": 18
  },
  {
   "cell_type": "code",
   "outputs": [],
   "source": [
    "adresser = spark.read.json(\"spark-warehouse/adresser.json\", multiLine=True)\n",
    "adresser.createOrReplaceTempView(\"adresser\")\n",
    "\n",
    "maklare = spark.read.json(\"spark-warehouse/maklare.json\", multiLine=True)\n",
    "maklare.createOrReplaceTempView(\"maklare\")\n",
    "\n",
    "objekt = spark.read.json(\"spark-warehouse/objekt.json\", multiLine=True)\n",
    "objekt.createOrReplaceTempView(\"objekt\")\n",
    "\n",
    "personer = spark.read.json(\"spark-warehouse/personer.json\", multiLine=True)\n",
    "personer.createOrReplaceTempView(\"personer\")"
   ],
   "metadata": {
    "collapsed": false,
    "ExecuteTime": {
     "end_time": "2024-02-19T12:58:02.230605Z",
     "start_time": "2024-02-19T12:58:02.027052Z"
    }
   },
   "id": "d3f589ac59bbbd",
   "execution_count": 19
  },
  {
   "cell_type": "code",
   "outputs": [
    {
     "name": "stdout",
     "output_type": "stream",
     "text": [
      "root\n",
      " |-- adress: long (nullable = true)\n",
      " |-- antal_rum: long (nullable = true)\n",
      " |-- avslutat: string (nullable = true)\n",
      " |-- balkong: string (nullable = true)\n",
      " |-- forsaljningspris: long (nullable = true)\n",
      " |-- hiss: string (nullable = true)\n",
      " |-- id: long (nullable = true)\n",
      " |-- kopare: long (nullable = true)\n",
      " |-- maklararvode: long (nullable = true)\n",
      " |-- maklare: long (nullable = true)\n",
      " |-- manadsavgift: long (nullable = true)\n",
      " |-- saljare: long (nullable = true)\n",
      " |-- saljstart: string (nullable = true)\n",
      " |-- storlek: long (nullable = true)\n",
      " |-- utgangspris: long (nullable = true)\n",
      " |-- vaning: long (nullable = true)\n"
     ]
    }
   ],
   "source": [
    "objekt.printSchema()"
   ],
   "metadata": {
    "collapsed": false,
    "ExecuteTime": {
     "end_time": "2024-02-19T12:58:02.236041Z",
     "start_time": "2024-02-19T12:58:02.231531Z"
    }
   },
   "id": "3e4e5a3d2ad54cd5",
   "execution_count": 20
  },
  {
   "cell_type": "code",
   "outputs": [
    {
     "name": "stdout",
     "output_type": "stream",
     "text": [
      "+------+---------+----------+-------+----------------+----+---+------+------------+-------+------------+-------+----------+-------+-----------+------+\n",
      "|adress|antal_rum|avslutat  |balkong|forsaljningspris|hiss|id |kopare|maklararvode|maklare|manadsavgift|saljare|saljstart |storlek|utgangspris|vaning|\n",
      "+------+---------+----------+-------+----------------+----+---+------+------------+-------+------------+-------+----------+-------+-----------+------+\n",
      "|75    |6        |2020-07-19|1      |14561000        |1   |1  |5     |218415      |2      |3090        |107    |2020-01-25|137    |12420000   |5     |\n",
      "+------+---------+----------+-------+----------------+----+---+------+------------+-------+------------+-------+----------+-------+-----------+------+\n"
     ]
    }
   ],
   "source": [
    "objekt.show(1,0)"
   ],
   "metadata": {
    "collapsed": false,
    "ExecuteTime": {
     "end_time": "2024-02-19T12:58:02.288653Z",
     "start_time": "2024-02-19T12:58:02.235135Z"
    }
   },
   "id": "67aa2062cff5ebc3",
   "execution_count": 21
  },
  {
   "cell_type": "code",
   "outputs": [
    {
     "name": "stdout",
     "output_type": "stream",
     "text": [
      "+------+---------+--------------------+-------+---+----------+----------+\n",
      "|adress|efternamn|               email|fornamn| id|  personnr| telefonnr|\n",
      "+------+---------+--------------------+-------+---+----------+----------+\n",
      "|   102| Wudeland|mwudeland0@drupal...|Danièle|  1|1997-12-19|3114705221|\n",
      "|   104|   Prayer|jprayer1@wordpres...|    Zoé|  2|1958-02-26|6162426013|\n",
      "|   106|  Dimmick|   hdimmick2@epa.gov|Thérèse|  3|1988-07-25|5095529405|\n",
      "|   108| Cuddehay|scuddehay3@delici...| Noémie|  4|1962-08-23|3451506020|\n",
      "|   110|   Cheley|ycheley4@shop-pro.jp|  André|  5|1976-12-26|6175439945|\n",
      "+------+---------+--------------------+-------+---+----------+----------+\n"
     ]
    }
   ],
   "source": [
    "result = spark.sql(\"SELECT * FROM personer LIMIT 5\")\n",
    "result.show()"
   ],
   "metadata": {
    "collapsed": false,
    "ExecuteTime": {
     "end_time": "2024-02-19T12:59:07.523922Z",
     "start_time": "2024-02-19T12:59:07.382069Z"
    }
   },
   "id": "80ce6d6f63253013",
   "execution_count": 22
  },
  {
   "cell_type": "code",
   "outputs": [
    {
     "name": "stdout",
     "output_type": "stream",
     "text": [
      "+------+---------+----------+-------+----------------+----+---+------+------------+-------+------------+-------+----------+-------+-----------+------+------+-----------+--------------------+----------+---+----------+----------+\n",
      "|adress|antal_rum|  avslutat|balkong|forsaljningspris|hiss| id|kopare|maklararvode|maklare|manadsavgift|saljare| saljstart|storlek|utgangspris|vaning|adress|  efternamn|               email|   fornamn| id|  personnr| telefonnr|\n",
      "+------+---------+----------+-------+----------------+----+---+------+------------+-------+------------+-------+----------+-------+-----------+------+------+-----------+--------------------+----------+---+----------+----------+\n",
      "|    75|        6|2020-07-19|      1|        14561000|   1|  1|     5|      218415|      2|        3090|    107|2020-01-25|    137|   12420000|     5|   153|Osbaldstone|eosbaldstone2y@ml...|Marie-noël|107|1976-05-11|3178324649|\n",
      "|    72|        5|2020-06-23|      1|         5942500|   1|  2|    27|       89138|      5|        9044|    129|2020-06-20|    113|    5058000|     2|   164| Crossfield|scrossfield3k@360.cn|     Naéva|129|1983-12-29|1588970367|\n",
      "|    72|        3|      NULL|      0|            NULL|   0|  3|  NULL|        NULL|      1|        7075|     79|2020-09-24|    126|   11194000|     2|   158|     Planks|cplanks26@privacy...|    Andrée| 79|1975-08-31|8991471990|\n",
      "|    24|        1|2020-10-23|      1|         1563000|   1|  4|   150|       23445|      6|        6033|     21|2020-02-08|     40|    1332000|     1|   142|  McQuorkel|kmcquorkelk@squid...|   Maëlann| 21|2002-02-07|6847628378|\n",
      "|    45|        4|2020-06-21|      1|        15673000|   1|  5|    69|        NULL|   NULL|        8097|    180|2020-03-25|    137|   13380000|     1|   190|     Dunlop|ddunlop4z@blinkli...| Angélique|180|1961-11-08|6092419769|\n",
      "|    76|        4|2020-06-13|      1|         4267000|   1|  6|    30|        NULL|   NULL|        8029|     91|2020-05-08|    124|    4267000|     1|   182|      Child|   echild2i@xing.com|    Océane| 91|1965-10-06|5689697541|\n",
      "|    61|        5|      NULL|      1|            NULL|   0|  7|  NULL|        NULL|      6|        4059|    101|2020-06-25|    150|   10465000|     6|   150|     Rouzet|krouzet2s@techcru...|    Naëlle|101|1992-08-01|5736471737|\n",
      "|    32|        5|2020-07-11|      0|         5273500|   1|  8|   130|       79103|      6|        3029|     90|2020-02-23|    150|    4487000|     6|   180|      Wyllt| zwyllt2h@discuz.net|     Vénus| 90|1974-11-11|4925380484|\n",
      "|    39|        4|2020-08-08|      1|         3533000|   0|  9|   145|       52995|      5|        7021|     99|2020-01-29|    142|    3533000|     5|   198|    Matejic|  mmatejic2q@mail.ru|       Åsa| 99|1996-12-25|6797637342|\n",
      "|    40|        5|2020-08-21|      0|        16945000|   0| 10|    82|      254175|      2|       10114|     92|2020-05-21|    126|   14462000|     5|   184|    Cordner|hcordner2j@wired.com|     Eliès| 92|1969-04-09|7639071218|\n",
      "|    15|        4|2020-12-01|      0|         2890000|   1| 11|     5|       43350|      8|        6019|    192|2020-02-28|    125|    2454000|     1|   196|     Ivimey|jivimey5b@accuwea...|        Pò|192|1981-11-16|8654907048|\n",
      "|    62|        1|      NULL|      0|            NULL|   1| 12|  NULL|        NULL|   NULL|        2019|    188|2020-01-25|     44|     986000|     1|   194|     O'Corr|  bocorr57@europa.eu| Médiamass|188|1991-01-14|2632066855|\n",
      "|    19|        2|      NULL|      0|            NULL|   0| 13|  NULL|        NULL|      4|        7137|     99|2020-01-04|     89|   12273000|     2|   198|    Matejic|  mmatejic2q@mail.ru|       Åsa| 99|1996-12-25|6797637342|\n",
      "|    96|        4|      NULL|      1|            NULL|   1| 14|  NULL|        NULL|      1|       11122|      9|2020-04-05|    107|   15333500|     2|   118| Tenniswood|ttenniswood8@umn.edu|   Léonore|  9|1968-09-10|5243553865|\n",
      "|    14|        3|2020-06-17|      1|         2360000|   0| 15|    58|       35400|      8|        4014|    121|2020-04-07|    134|    2360000|     3|   160|      Clist|tclist3c@examiner...|  Judicaël|121|1957-12-30|4807990691|\n",
      "|    70|        3|2020-07-08|      1|        10132000|   1| 16|    51|      151980|     10|        6074|    157|2020-04-11|    116|    8648000|     2|   178|   Stebbing|pstebbing4c@amazo...|       Maï|157|1974-08-14|3223484577|\n",
      "|    16|        6|      NULL|      0|            NULL|   1| 17|  NULL|        NULL|      2|        6056|    192|2020-06-04|    112|    6330000|     5|   196|     Ivimey|jivimey5b@accuwea...|        Pò|192|1981-11-16|8654907048|\n",
      "|    47|        6|2020-10-02|      0|         9204500|   1| 18|    39|      138068|      4|       11073|     98|2020-03-04|    106|    9204500|     3|   196|    Orchard|porchard2p@cbsloc...|        Kù| 98|1982-06-24|5628349943|\n",
      "|    50|        5|2020-07-30|      1|        17514000|   0| 19|    15|      262710|      3|        4137|    159|2020-02-25|    109|   14948000|     1|   179|     Yeldon|myeldon4e@utexas.edu|      Loïc|159|1952-10-31|4351017157|\n",
      "|    25|        6|      NULL|      1|            NULL|   0| 20|  NULL|        NULL|      2|        6067|     80|2020-02-14|    180|   12090000|     2|   160|    Gwinnel|lgwinnel27@forbes...| Almérinda| 80|1965-04-07|8531338476|\n",
      "+------+---------+----------+-------+----------------+----+---+------+------------+-------+------------+-------+----------+-------+-----------+------+------+-----------+--------------------+----------+---+----------+----------+\n"
     ]
    }
   ],
   "source": [
    "result = spark.sql(\"\"\"\n",
    "    SELECT * FROM objekt, personer \n",
    "        WHERE objekt.saljare = personer.id \n",
    "        LIMIT 50\n",
    "\"\"\")\n",
    "result.show()"
   ],
   "metadata": {
    "collapsed": false,
    "ExecuteTime": {
     "end_time": "2024-02-19T13:02:53.959844Z",
     "start_time": "2024-02-19T13:02:53.750383Z"
    }
   },
   "id": "bfe6fdf1edce57f8",
   "execution_count": 24
  },
  {
   "cell_type": "markdown",
   "source": [
    "C. Vilken storlek på lägenheter säljer snabbast i Skåne? De som är under 50kvm, mellan 50-100kvm eller över 100kvm?"
   ],
   "metadata": {
    "collapsed": false
   },
   "id": "45f2f6b08b7c823a"
  },
  {
   "cell_type": "code",
   "outputs": [
    {
     "name": "stdout",
     "output_type": "stream",
     "text": [
      "+-----------------+-----+\n",
      "|          storlek|dagar|\n",
      "+-----------------+-----+\n",
      "|Mellan 50–100 kvm|  116|\n",
      "+-----------------+-----+\n"
     ]
    }
   ],
   "source": [
    "result = spark.sql(\"\"\"\n",
    "SELECT \"Mindre än 50 kvm\" AS storlek, ceil(avg(datediff(avslutat, saljstart))) AS dagar FROM objekt WHERE avslutat IS NOT NULL \n",
    "AND storlek < 50\n",
    "UNION\n",
    "SELECT \"Mellan 50–100 kvm\" AS storlek, ceil(avg(datediff(avslutat, saljstart))) AS dagar FROM objekt WHERE avslutat IS NOT NULL \n",
    "AND storlek BETWEEN 50 AND 100\n",
    "UNION\n",
    "SELECT \"Större än 50 kvm\" AS storlek, ceil(avg(datediff(avslutat, saljstart))) AS dagar FROM objekt WHERE avslutat IS NOT NULL \n",
    "AND storlek > 100\n",
    "ORDER BY dagar LIMIT 1\n",
    "\"\"\") \n",
    "result.show()"
   ],
   "metadata": {
    "collapsed": false,
    "ExecuteTime": {
     "end_time": "2024-02-19T13:36:58.159458Z",
     "start_time": "2024-02-19T13:36:57.997257Z"
    }
   },
   "id": "d8a5f42aec683a2a",
   "execution_count": 38
  },
  {
   "cell_type": "code",
   "outputs": [],
   "source": [],
   "metadata": {
    "collapsed": false
   },
   "id": "cb30b0d46d148e8"
  }
 ],
 "metadata": {
  "kernelspec": {
   "display_name": "Python 3",
   "language": "python",
   "name": "python3"
  },
  "language_info": {
   "codemirror_mode": {
    "name": "ipython",
    "version": 2
   },
   "file_extension": ".py",
   "mimetype": "text/x-python",
   "name": "python",
   "nbconvert_exporter": "python",
   "pygments_lexer": "ipython2",
   "version": "2.7.6"
  }
 },
 "nbformat": 4,
 "nbformat_minor": 5
}
