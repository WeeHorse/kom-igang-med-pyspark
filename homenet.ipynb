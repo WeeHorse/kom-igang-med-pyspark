{
 "cells": [
  {
   "cell_type": "markdown",
   "source": [
    "# Homenet\n",
    "Skapar en session \"spark\".\n",
    "_Notera att konfigurationen är uppdaterad med spark.sql.catalogImplementation = 'hive' vilket är en förutsättning för att kunna skapa permanenta tabeller._"
   ],
   "metadata": {
    "collapsed": false
   },
   "id": "9061b279bbc7effe"
  },
  {
   "cell_type": "code",
   "outputs": [],
   "source": [
    "from pyspark.sql import SparkSession\n",
    "spark = SparkSession.builder.appName(\"Homenet\").config(\"spark.memory.offHeap.enabled\", \"true\").config(\n",
    "    \"spark.memory.offHeap.size\", \"10g\").config('spark.sql.catalogImplementation', 'hive').getOrCreate()"
   ],
   "metadata": {
    "collapsed": true,
    "ExecuteTime": {
     "end_time": "2024-02-21T14:37:04.576305Z",
     "start_time": "2024-02-21T14:37:04.454531Z"
    }
   },
   "id": "initial_id",
   "execution_count": 8
  },
  {
   "cell_type": "markdown",
   "source": [
    "Läser in json-filerna för adresser, mäklare (individuella mäklare med ev info om vilka mäklarföretag de tillhör, om något), objekt (bostadsrätter) och personer (säljare och köpare).\n",
    "Filerna läses först in till var sin dataframe, dataframen konverteras sedan till en temporär view - som man sedan kan ställa SQL-frågor till."
   ],
   "metadata": {
    "collapsed": false
   },
   "id": "8cba09c0ea819b2b"
  },
  {
   "cell_type": "code",
   "outputs": [],
   "source": [
    "adresser = spark.read.json(\"spark-warehouse/adresser.json\", multiLine=True)\n",
    "adresser.createOrReplaceTempView(\"adresser\")\n",
    "\n",
    "maklare = spark.read.json(\"spark-warehouse/maklare.json\", multiLine=True)\n",
    "maklare.createOrReplaceTempView(\"maklare\")\n",
    "\n",
    "objekt = spark.read.json(\"spark-warehouse/objekt.json\", multiLine=True)\n",
    "objekt.createOrReplaceTempView(\"objekt\")\n",
    "\n",
    "personer = spark.read.json(\"spark-warehouse/personer.json\", multiLine=True)\n",
    "personer.createOrReplaceTempView(\"personer\")"
   ],
   "metadata": {
    "collapsed": false,
    "ExecuteTime": {
     "end_time": "2024-02-21T14:37:05.015301Z",
     "start_time": "2024-02-21T14:37:04.506726Z"
    }
   },
   "id": "d3f589ac59bbbd",
   "execution_count": 9
  },
  {
   "cell_type": "markdown",
   "source": [
    "Så här kan man se schemat för en dataframe (eller temp view, eller tabell, etc) "
   ],
   "metadata": {
    "collapsed": false
   },
   "id": "c33857c25d2f7b94"
  },
  {
   "cell_type": "code",
   "outputs": [
    {
     "name": "stdout",
     "output_type": "stream",
     "text": [
      "root\n",
      " |-- adress: long (nullable = true)\n",
      " |-- antal_rum: long (nullable = true)\n",
      " |-- avslutat: string (nullable = true)\n",
      " |-- balkong: string (nullable = true)\n",
      " |-- forsaljningspris: long (nullable = true)\n",
      " |-- hiss: string (nullable = true)\n",
      " |-- id: long (nullable = true)\n",
      " |-- kopare: long (nullable = true)\n",
      " |-- maklararvode: long (nullable = true)\n",
      " |-- maklare: long (nullable = true)\n",
      " |-- manadsavgift: long (nullable = true)\n",
      " |-- saljare: long (nullable = true)\n",
      " |-- saljstart: string (nullable = true)\n",
      " |-- storlek: long (nullable = true)\n",
      " |-- utgangspris: long (nullable = true)\n",
      " |-- vaning: long (nullable = true)\n"
     ]
    }
   ],
   "source": [
    "objekt.printSchema()"
   ],
   "metadata": {
    "collapsed": false,
    "ExecuteTime": {
     "end_time": "2024-02-21T14:37:05.015972Z",
     "start_time": "2024-02-21T14:37:04.993435Z"
    }
   },
   "id": "3e4e5a3d2ad54cd5",
   "execution_count": 10
  },
  {
   "cell_type": "markdown",
   "source": [
    "Så här kan man hämta ut datarader:"
   ],
   "metadata": {
    "collapsed": false
   },
   "id": "a3267f8b41448958"
  },
  {
   "cell_type": "code",
   "outputs": [
    {
     "name": "stdout",
     "output_type": "stream",
     "text": [
      "+------+---------+----------+-------+----------------+----+---+------+------------+-------+------------+-------+----------+-------+-----------+------+\n",
      "|adress|antal_rum|avslutat  |balkong|forsaljningspris|hiss|id |kopare|maklararvode|maklare|manadsavgift|saljare|saljstart |storlek|utgangspris|vaning|\n",
      "+------+---------+----------+-------+----------------+----+---+------+------------+-------+------------+-------+----------+-------+-----------+------+\n",
      "|75    |6        |2020-07-19|1      |14561000        |1   |1  |5     |218415      |2      |3090        |107    |2020-01-25|137    |12420000   |5     |\n",
      "|72    |5        |2020-06-23|1      |5942500         |1   |2  |27    |89138       |5      |9044        |129    |2020-06-20|113    |5058000    |2     |\n",
      "+------+---------+----------+-------+----------------+----+---+------+------------+-------+------------+-------+----------+-------+-----------+------+\n"
     ]
    }
   ],
   "source": [
    "objekt.show(2,0)"
   ],
   "metadata": {
    "collapsed": false,
    "ExecuteTime": {
     "end_time": "2024-02-21T14:37:05.072950Z",
     "start_time": "2024-02-21T14:37:04.997808Z"
    }
   },
   "id": "67aa2062cff5ebc3",
   "execution_count": 11
  },
  {
   "cell_type": "markdown",
   "source": [
    "Vi kan skriva SQL-queries:"
   ],
   "metadata": {
    "collapsed": false
   },
   "id": "2ae216060a98e08c"
  },
  {
   "cell_type": "code",
   "outputs": [
    {
     "name": "stdout",
     "output_type": "stream",
     "text": [
      "+------+---------+--------------------+-------+---+----------+----------+\n",
      "|adress|efternamn|               email|fornamn| id|  personnr| telefonnr|\n",
      "+------+---------+--------------------+-------+---+----------+----------+\n",
      "|   102| Wudeland|mwudeland0@drupal...|Danièle|  1|1997-12-19|3114705221|\n",
      "|   104|   Prayer|jprayer1@wordpres...|    Zoé|  2|1958-02-26|6162426013|\n",
      "|   106|  Dimmick|   hdimmick2@epa.gov|Thérèse|  3|1988-07-25|5095529405|\n",
      "|   108| Cuddehay|scuddehay3@delici...| Noémie|  4|1962-08-23|3451506020|\n",
      "|   110|   Cheley|ycheley4@shop-pro.jp|  André|  5|1976-12-26|6175439945|\n",
      "+------+---------+--------------------+-------+---+----------+----------+\n"
     ]
    }
   ],
   "source": [
    "result = spark.sql(\"SELECT * FROM personer LIMIT 5\")\n",
    "result.show()"
   ],
   "metadata": {
    "collapsed": false,
    "ExecuteTime": {
     "end_time": "2024-02-21T14:37:05.155763Z",
     "start_time": "2024-02-21T14:37:05.071445Z"
    }
   },
   "id": "80ce6d6f63253013",
   "execution_count": 12
  },
  {
   "cell_type": "markdown",
   "source": [
    "Våra queries kan göra joins mellan temp views (eller tabeller):"
   ],
   "metadata": {
    "collapsed": false
   },
   "id": "fd37ec591308ea07"
  },
  {
   "cell_type": "code",
   "outputs": [
    {
     "name": "stdout",
     "output_type": "stream",
     "text": [
      "+------+---------+----------+-------+----------------+----+---+------+------------+-------+------------+-------+----------+-------+-----------+------+------+-----------+--------------------+----------+---+----------+----------+\n",
      "|adress|antal_rum|  avslutat|balkong|forsaljningspris|hiss| id|kopare|maklararvode|maklare|manadsavgift|saljare| saljstart|storlek|utgangspris|vaning|adress|  efternamn|               email|   fornamn| id|  personnr| telefonnr|\n",
      "+------+---------+----------+-------+----------------+----+---+------+------------+-------+------------+-------+----------+-------+-----------+------+------+-----------+--------------------+----------+---+----------+----------+\n",
      "|    75|        6|2020-07-19|      1|        14561000|   1|  1|     5|      218415|      2|        3090|    107|2020-01-25|    137|   12420000|     5|   153|Osbaldstone|eosbaldstone2y@ml...|Marie-noël|107|1976-05-11|3178324649|\n",
      "|    72|        5|2020-06-23|      1|         5942500|   1|  2|    27|       89138|      5|        9044|    129|2020-06-20|    113|    5058000|     2|   164| Crossfield|scrossfield3k@360.cn|     Naéva|129|1983-12-29|1588970367|\n",
      "|    72|        3|      NULL|      0|            NULL|   0|  3|  NULL|        NULL|      1|        7075|     79|2020-09-24|    126|   11194000|     2|   158|     Planks|cplanks26@privacy...|    Andrée| 79|1975-08-31|8991471990|\n",
      "|    24|        1|2020-10-23|      1|         1563000|   1|  4|   150|       23445|      6|        6033|     21|2020-02-08|     40|    1332000|     1|   142|  McQuorkel|kmcquorkelk@squid...|   Maëlann| 21|2002-02-07|6847628378|\n",
      "|    45|        4|2020-06-21|      1|        15673000|   1|  5|    69|        NULL|   NULL|        8097|    180|2020-03-25|    137|   13380000|     1|   190|     Dunlop|ddunlop4z@blinkli...| Angélique|180|1961-11-08|6092419769|\n",
      "+------+---------+----------+-------+----------------+----+---+------+------------+-------+------------+-------+----------+-------+-----------+------+------+-----------+--------------------+----------+---+----------+----------+\n"
     ]
    }
   ],
   "source": [
    "result = spark.sql(\"\"\"\n",
    "    SELECT * FROM objekt, personer \n",
    "        WHERE objekt.saljare = personer.id \n",
    "        LIMIT 5\n",
    "\"\"\")\n",
    "result.show()"
   ],
   "metadata": {
    "collapsed": false,
    "ExecuteTime": {
     "end_time": "2024-02-21T14:37:05.330441Z",
     "start_time": "2024-02-21T14:37:05.144561Z"
    }
   },
   "id": "bfe6fdf1edce57f8",
   "execution_count": 13
  },
  {
   "cell_type": "markdown",
   "source": [
    "Vi kan skapa mer komplexa frågor, med UNIONs:\n",
    "C. Vilken storlek på lägenheter säljer snabbast i Skåne? De som är under 50kvm, mellan 50-100kvm eller över 100kvm?"
   ],
   "metadata": {
    "collapsed": false
   },
   "id": "45f2f6b08b7c823a"
  },
  {
   "cell_type": "code",
   "outputs": [
    {
     "name": "stdout",
     "output_type": "stream",
     "text": [
      "+-----------------+-----+\n",
      "|          storlek|dagar|\n",
      "+-----------------+-----+\n",
      "|Mellan 50–100 kvm|  116|\n",
      "+-----------------+-----+\n"
     ]
    }
   ],
   "source": [
    "result = spark.sql(\"\"\"\n",
    "SELECT \"Mindre än 50 kvm\" AS storlek, ceil(avg(datediff(avslutat, saljstart))) AS dagar FROM objekt WHERE avslutat IS NOT NULL \n",
    "AND storlek < 50\n",
    "UNION\n",
    "SELECT \"Mellan 50–100 kvm\" AS storlek, ceil(avg(datediff(avslutat, saljstart))) AS dagar FROM objekt WHERE avslutat IS NOT NULL \n",
    "AND storlek BETWEEN 50 AND 100\n",
    "UNION\n",
    "SELECT \"Större än 50 kvm\" AS storlek, ceil(avg(datediff(avslutat, saljstart))) AS dagar FROM objekt WHERE avslutat IS NOT NULL \n",
    "AND storlek > 100\n",
    "ORDER BY dagar LIMIT 1\n",
    "\"\"\") \n",
    "result.show()"
   ],
   "metadata": {
    "collapsed": false,
    "ExecuteTime": {
     "end_time": "2024-02-21T14:37:05.522173Z",
     "start_time": "2024-02-21T14:37:05.306563Z"
    }
   },
   "id": "d8a5f42aec683a2a",
   "execution_count": 14
  },
  {
   "cell_type": "markdown",
   "source": [
    "Men om jag vill kunna skapa VIEWs behöver jag kunna göra queries mot permanenta tabeller. Och om jag vill spara egna permanenta SQL-tabeller eller spara dataframes permanent för SQL-querying, behöver jag konvertera mina dataframes (eller temp views) till tabeller:"
   ],
   "metadata": {
    "collapsed": false
   },
   "id": "58e2258486142ccf"
  },
  {
   "cell_type": "code",
   "outputs": [
    {
     "name": "stderr",
     "output_type": "stream",
     "text": [
      "24/02/21 15:37:05 WARN ResolveSessionCatalog: A Hive serde table will be created as there is no table provider specified. You can set spark.sql.legacy.createHiveTableByDefault to false so that native data source table will be created instead.\n",
      "24/02/21 15:37:05 WARN HiveConf: HiveConf of name hive.stats.jdbc.timeout does not exist\n",
      "24/02/21 15:37:05 WARN HiveConf: HiveConf of name hive.stats.retries.wait does not exist\n",
      "24/02/21 15:37:07 WARN ObjectStore: Version information not found in metastore. hive.metastore.schema.verification is not enabled so recording the schema version 2.3.0\n",
      "24/02/21 15:37:07 WARN ObjectStore: setMetaStoreSchemaVersion called but recording version is disabled: version = 2.3.0, comment = Set by MetaStore b@10.200.51.175\n",
      "24/02/21 15:37:07 WARN ObjectStore: Failed to get database default, returning NoSuchObjectException\n",
      "24/02/21 15:37:07 WARN SessionState: METASTORE_FILTER_HOOK will be ignored, since hive.security.authorization.manager is set to instance of HiveAuthorizerFactory.\n",
      "24/02/21 15:37:08 WARN HiveConf: HiveConf of name hive.internal.ss.authz.settings.applied.marker does not exist\n",
      "24/02/21 15:37:08 WARN HiveConf: HiveConf of name hive.stats.jdbc.timeout does not exist\n",
      "24/02/21 15:37:08 WARN HiveConf: HiveConf of name hive.stats.retries.wait does not exist\n",
      "24/02/21 15:37:08 WARN HiveMetaStore: Location: file:/Users/b/Desktop/Projects/DM23/Homenet/spark-warehouse/objekt_table specified for non-external table:objekt_table\n",
      "24/02/21 15:37:08 WARN ObjectStore: Failed to get database global_temp, returning NoSuchObjectException\n"
     ]
    },
    {
     "data": {
      "text/plain": "DataFrame[]"
     },
     "execution_count": 15,
     "metadata": {},
     "output_type": "execute_result"
    }
   ],
   "source": [
    "# Skapa en \"hive table\" (permanent tabell). \n",
    "# OBS! Notera att namnet på tabellen inte kan vara samma som min temp view: \n",
    "spark.sql(\"CREATE TABLE objekt_table AS SELECT * FROM objekt\")"
   ],
   "metadata": {
    "collapsed": false,
    "ExecuteTime": {
     "end_time": "2024-02-21T14:37:08.758909Z",
     "start_time": "2024-02-21T14:37:05.515490Z"
    }
   },
   "id": "4e0bfa5ce5d57037",
   "execution_count": 15
  },
  {
   "cell_type": "markdown",
   "source": [
    "_(Notera att operationerna med att skapa hive-tabeller ger rätt mycket varningar, men fungerar ändå som de ska)_"
   ],
   "metadata": {
    "collapsed": false
   },
   "id": "81e0a114c463edc1"
  },
  {
   "cell_type": "markdown",
   "source": [
    "Jag kan däremot ersätta min ursprungliga dataframe med en permanent tabell. Så här skulle det kunna se ut:"
   ],
   "metadata": {
    "collapsed": false
   },
   "id": "2fa3145d45cf0aaf"
  },
  {
   "cell_type": "code",
   "outputs": [
    {
     "name": "stderr",
     "output_type": "stream",
     "text": [
      "24/02/21 15:37:08 WARN ResolveSessionCatalog: A Hive serde table will be created as there is no table provider specified. You can set spark.sql.legacy.createHiveTableByDefault to false so that native data source table will be created instead.\n",
      "24/02/21 15:37:08 WARN HiveMetaStore: Location: file:/Users/b/Desktop/Projects/DM23/Homenet/spark-warehouse/bostadsratter specified for non-external table:bostadsratter\n"
     ]
    },
    {
     "data": {
      "text/plain": "DataFrame[]"
     },
     "execution_count": 16,
     "metadata": {},
     "output_type": "execute_result"
    }
   ],
   "source": [
    "# Läser in en JSON-fil till en dataframe\n",
    "bostadsratter = spark.read.json(\"spark-warehouse/bostadsratter.json\", multiLine=True)\n",
    "\n",
    "# Skapa en temp-view\n",
    "bostadsratter.createOrReplaceTempView(\"bostadsratter_temp_view\")\n",
    "\n",
    "# Skapa en hive-tabell från min temp-view\n",
    "spark.sql(\"CREATE TABLE bostadsratter AS SELECT * FROM bostadsratter_temp_view\")"
   ],
   "metadata": {
    "collapsed": false,
    "ExecuteTime": {
     "end_time": "2024-02-21T14:37:09.168598Z",
     "start_time": "2024-02-21T14:37:08.766833Z"
    }
   },
   "id": "cb30b0d46d148e8",
   "execution_count": 16
  },
  {
   "cell_type": "code",
   "outputs": [
    {
     "name": "stdout",
     "output_type": "stream",
     "text": [
      "+------+---------+----------+-------+----------------+----+---+------+------------+-------+------------+-------+----------+-------+-----------+------+\n",
      "|adress|antal_rum|avslutat  |balkong|forsaljningspris|hiss|id |kopare|maklararvode|maklare|manadsavgift|saljare|saljstart |storlek|utgangspris|vaning|\n",
      "+------+---------+----------+-------+----------------+----+---+------+------------+-------+------------+-------+----------+-------+-----------+------+\n",
      "|75    |6        |2020-07-19|1      |14561000        |1   |1  |5     |218415      |2      |3090        |107    |2020-01-25|137    |12420000   |5     |\n",
      "|72    |5        |2020-06-23|1      |5942500         |1   |2  |27    |89138       |5      |9044        |129    |2020-06-20|113    |5058000    |2     |\n",
      "|72    |3        |NULL      |0      |NULL            |0   |3  |NULL  |NULL        |1      |7075        |79     |2020-09-24|126    |11194000   |2     |\n",
      "+------+---------+----------+-------+----------------+----+---+------+------------+-------+------------+-------+----------+-------+-----------+------+\n"
     ]
    }
   ],
   "source": [
    "result = spark.sql(\"SELECT * FROM bostadsratter\")\n",
    "result.show(3,0)"
   ],
   "metadata": {
    "collapsed": false,
    "ExecuteTime": {
     "end_time": "2024-02-21T14:38:20.226769Z",
     "start_time": "2024-02-21T14:38:19.956270Z"
    }
   },
   "id": "970bcfcfff04d48e",
   "execution_count": 18
  },
  {
   "cell_type": "markdown",
   "source": [
    "Nu kan vi skapa VIEWs:"
   ],
   "metadata": {
    "collapsed": false
   },
   "id": "4f88a035c3fedd6"
  },
  {
   "cell_type": "code",
   "outputs": [
    {
     "data": {
      "text/plain": "DataFrame[]"
     },
     "execution_count": 19,
     "metadata": {},
     "output_type": "execute_result"
    }
   ],
   "source": [
    "spark.sql(\"CREATE OR REPLACE VIEW bostadsratter_till_forsaljning AS SELECT * FROM bostadsratter WHERE avslutat IS NOT NULL\")"
   ],
   "metadata": {
    "collapsed": false,
    "ExecuteTime": {
     "end_time": "2024-02-21T14:41:31.400046Z",
     "start_time": "2024-02-21T14:41:31.282139Z"
    }
   },
   "id": "23e5ddeed1daaf72",
   "execution_count": 19
  },
  {
   "cell_type": "code",
   "outputs": [
    {
     "name": "stdout",
     "output_type": "stream",
     "text": [
      "+------+---------+----------+-------+----------------+----+---+------+------------+-------+------------+-------+----------+-------+-----------+------+\n",
      "|adress|antal_rum|avslutat  |balkong|forsaljningspris|hiss|id |kopare|maklararvode|maklare|manadsavgift|saljare|saljstart |storlek|utgangspris|vaning|\n",
      "+------+---------+----------+-------+----------------+----+---+------+------------+-------+------------+-------+----------+-------+-----------+------+\n",
      "|75    |6        |2020-07-19|1      |14561000        |1   |1  |5     |218415      |2      |3090        |107    |2020-01-25|137    |12420000   |5     |\n",
      "|72    |5        |2020-06-23|1      |5942500         |1   |2  |27    |89138       |5      |9044        |129    |2020-06-20|113    |5058000    |2     |\n",
      "|24    |1        |2020-10-23|1      |1563000         |1   |4  |150   |23445       |6      |6033        |21     |2020-02-08|40     |1332000    |1     |\n",
      "+------+---------+----------+-------+----------------+----+---+------+------------+-------+------------+-------+----------+-------+-----------+------+\n"
     ]
    }
   ],
   "source": [
    "result = spark.sql(\"SELECT * FROM bostadsratter_till_forsaljning\")\n",
    "result.show(3,0)"
   ],
   "metadata": {
    "collapsed": false,
    "ExecuteTime": {
     "end_time": "2024-02-21T14:42:33.767370Z",
     "start_time": "2024-02-21T14:42:33.512201Z"
    }
   },
   "id": "bf512c58434a0fc9",
   "execution_count": 22
  },
  {
   "cell_type": "code",
   "outputs": [],
   "source": [],
   "metadata": {
    "collapsed": false
   },
   "id": "68355aec57f097cf"
  }
 ],
 "metadata": {
  "kernelspec": {
   "display_name": "Python 3",
   "language": "python",
   "name": "python3"
  },
  "language_info": {
   "codemirror_mode": {
    "name": "ipython",
    "version": 2
   },
   "file_extension": ".py",
   "mimetype": "text/x-python",
   "name": "python",
   "nbconvert_exporter": "python",
   "pygments_lexer": "ipython2",
   "version": "2.7.6"
  }
 },
 "nbformat": 4,
 "nbformat_minor": 5
}
