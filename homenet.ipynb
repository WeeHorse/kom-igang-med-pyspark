{
 "cells": [
  {
   "cell_type": "markdown",
   "id": "9061b279bbc7effe",
   "metadata": {
    "collapsed": false,
    "jupyter": {
     "outputs_hidden": false
    }
   },
   "source": [
    "# Homenet\n",
    "Skapar en session \"spark\".\n",
    "_Notera att konfigurationen är uppdaterad med spark.sql.catalogImplementation = 'hive' vilket är en förutsättning för att kunna skapa permanenta tabeller._"
   ]
  },
  {
   "cell_type": "code",
   "execution_count": null,
   "id": "initial_id",
   "metadata": {
    "ExecuteTime": {
     "end_time": "2024-02-21T19:07:32.056104Z",
     "start_time": "2024-02-21T19:07:29.240158Z"
    }
   },
   "outputs": [],
   "source": [
    "from pyspark.sql import SparkSession\n",
    "spark = SparkSession.builder.appName(\"Homenet\").config(\"spark.memory.offHeap.enabled\", \"true\").config(\n",
    "    \"spark.memory.offHeap.size\", \"10g\").config('spark.sql.catalogImplementation', 'hive').getOrCreate()"
   ]
  },
  {
   "cell_type": "markdown",
   "id": "8cba09c0ea819b2b",
   "metadata": {
    "collapsed": false,
    "jupyter": {
     "outputs_hidden": false
    }
   },
   "source": [
    "Läser in json-filerna för adresser, mäklare (individuella mäklare med ev info om vilka mäklarföretag de tillhör, om något), objekt (bostadsrätter) och personer (säljare och köpare).\n",
    "Filerna läses först in till var sin dataframe, dataframen konverteras sedan till en temporär view - som man sedan kan ställa SQL-frågor till."
   ]
  },
  {
   "cell_type": "code",
   "execution_count": 2,
   "id": "d3f589ac59bbbd",
   "metadata": {
    "ExecuteTime": {
     "end_time": "2024-02-21T19:07:34.402384Z",
     "start_time": "2024-02-21T19:07:32.058720Z"
    },
    "collapsed": false,
    "jupyter": {
     "outputs_hidden": false
    }
   },
   "outputs": [],
   "source": [
    "adresser = spark.read.json(\"spark-warehouse/adresser.json\", multiLine=True)\n",
    "adresser.createOrReplaceTempView(\"adresser\")\n",
    "\n",
    "maklare = spark.read.json(\"spark-warehouse/maklare.json\", multiLine=True)\n",
    "maklare.createOrReplaceTempView(\"maklare\")\n",
    "\n",
    "objekt = spark.read.json(\"spark-warehouse/objekt.json\", multiLine=True)\n",
    "objekt.createOrReplaceTempView(\"objekt\")\n",
    "\n",
    "personer = spark.read.json(\"spark-warehouse/personer.json\", multiLine=True)\n",
    "personer.createOrReplaceTempView(\"personer\")"
   ]
  },
  {
   "cell_type": "markdown",
   "id": "c33857c25d2f7b94",
   "metadata": {
    "collapsed": false,
    "jupyter": {
     "outputs_hidden": false
    }
   },
   "source": [
    "Så här kan man se schemat för en dataframe (eller temp view, eller tabell, etc) "
   ]
  },
  {
   "cell_type": "code",
   "execution_count": 3,
   "id": "3e4e5a3d2ad54cd5",
   "metadata": {
    "ExecuteTime": {
     "end_time": "2024-02-21T19:07:34.413320Z",
     "start_time": "2024-02-21T19:07:34.400708Z"
    },
    "collapsed": false,
    "jupyter": {
     "outputs_hidden": false
    }
   },
   "outputs": [
    {
     "name": "stdout",
     "output_type": "stream",
     "text": [
      "root\n",
      " |-- adress: long (nullable = true)\n",
      " |-- antal_rum: long (nullable = true)\n",
      " |-- avslutat: string (nullable = true)\n",
      " |-- balkong: string (nullable = true)\n",
      " |-- forsaljningspris: long (nullable = true)\n",
      " |-- hiss: string (nullable = true)\n",
      " |-- id: long (nullable = true)\n",
      " |-- kopare: long (nullable = true)\n",
      " |-- maklararvode: long (nullable = true)\n",
      " |-- maklare: long (nullable = true)\n",
      " |-- manadsavgift: long (nullable = true)\n",
      " |-- saljare: long (nullable = true)\n",
      " |-- saljstart: string (nullable = true)\n",
      " |-- storlek: long (nullable = true)\n",
      " |-- utgangspris: long (nullable = true)\n",
      " |-- vaning: long (nullable = true)\n"
     ]
    }
   ],
   "source": [
    "objekt.printSchema()"
   ]
  },
  {
   "cell_type": "markdown",
   "id": "a3267f8b41448958",
   "metadata": {
    "collapsed": false,
    "jupyter": {
     "outputs_hidden": false
    }
   },
   "source": [
    "Så här kan man hämta ut datarader:"
   ]
  },
  {
   "cell_type": "code",
   "execution_count": 4,
   "id": "67aa2062cff5ebc3",
   "metadata": {
    "ExecuteTime": {
     "end_time": "2024-02-21T19:07:35.342157Z",
     "start_time": "2024-02-21T19:07:34.406435Z"
    },
    "collapsed": false,
    "jupyter": {
     "outputs_hidden": false
    }
   },
   "outputs": [
    {
     "name": "stdout",
     "output_type": "stream",
     "text": [
      "+------+---------+----------+-------+----------------+----+---+------+------------+-------+------------+-------+----------+-------+-----------+------+\n",
      "|adress|antal_rum|avslutat  |balkong|forsaljningspris|hiss|id |kopare|maklararvode|maklare|manadsavgift|saljare|saljstart |storlek|utgangspris|vaning|\n",
      "+------+---------+----------+-------+----------------+----+---+------+------------+-------+------------+-------+----------+-------+-----------+------+\n",
      "|75    |6        |2020-07-19|1      |14561000        |1   |1  |5     |218415      |2      |3090        |107    |2020-01-25|137    |12420000   |5     |\n",
      "|72    |5        |2020-06-23|1      |5942500         |1   |2  |27    |89138       |5      |9044        |129    |2020-06-20|113    |5058000    |2     |\n",
      "+------+---------+----------+-------+----------------+----+---+------+------------+-------+------------+-------+----------+-------+-----------+------+\n"
     ]
    }
   ],
   "source": [
    "objekt.show(2,0)"
   ]
  },
  {
   "cell_type": "markdown",
   "id": "2ae216060a98e08c",
   "metadata": {
    "collapsed": false,
    "jupyter": {
     "outputs_hidden": false
    }
   },
   "source": [
    "Vi kan skriva SQL-queries:"
   ]
  },
  {
   "cell_type": "code",
   "execution_count": 5,
   "id": "80ce6d6f63253013",
   "metadata": {
    "ExecuteTime": {
     "end_time": "2024-02-21T19:07:35.506692Z",
     "start_time": "2024-02-21T19:07:35.345505Z"
    },
    "collapsed": false,
    "jupyter": {
     "outputs_hidden": false
    }
   },
   "outputs": [
    {
     "name": "stdout",
     "output_type": "stream",
     "text": [
      "+------+---------+--------------------+-------+---+----------+----------+\n",
      "|adress|efternamn|               email|fornamn| id|  personnr| telefonnr|\n",
      "+------+---------+--------------------+-------+---+----------+----------+\n",
      "|   102| Wudeland|mwudeland0@drupal...|Danièle|  1|1997-12-19|3114705221|\n",
      "|   104|   Prayer|jprayer1@wordpres...|    Zoé|  2|1958-02-26|6162426013|\n",
      "|   106|  Dimmick|   hdimmick2@epa.gov|Thérèse|  3|1988-07-25|5095529405|\n",
      "|   108| Cuddehay|scuddehay3@delici...| Noémie|  4|1962-08-23|3451506020|\n",
      "|   110|   Cheley|ycheley4@shop-pro.jp|  André|  5|1976-12-26|6175439945|\n",
      "+------+---------+--------------------+-------+---+----------+----------+\n"
     ]
    }
   ],
   "source": [
    "result = spark.sql(\"SELECT * FROM personer LIMIT 5\")\n",
    "result.show()"
   ]
  },
  {
   "cell_type": "markdown",
   "id": "fd37ec591308ea07",
   "metadata": {
    "collapsed": false,
    "jupyter": {
     "outputs_hidden": false
    }
   },
   "source": [
    "Våra queries kan göra joins mellan temp views (eller tabeller):"
   ]
  },
  {
   "cell_type": "code",
   "execution_count": 6,
   "id": "bfe6fdf1edce57f8",
   "metadata": {
    "ExecuteTime": {
     "end_time": "2024-02-21T19:07:35.856336Z",
     "start_time": "2024-02-21T19:07:35.506759Z"
    },
    "collapsed": false,
    "jupyter": {
     "outputs_hidden": false
    }
   },
   "outputs": [
    {
     "name": "stdout",
     "output_type": "stream",
     "text": [
      "+------+---------+----------+-------+----------------+----+---+------+------------+-------+------------+-------+----------+-------+-----------+------+------+-----------+--------------------+----------+---+----------+----------+\n",
      "|adress|antal_rum|  avslutat|balkong|forsaljningspris|hiss| id|kopare|maklararvode|maklare|manadsavgift|saljare| saljstart|storlek|utgangspris|vaning|adress|  efternamn|               email|   fornamn| id|  personnr| telefonnr|\n",
      "+------+---------+----------+-------+----------------+----+---+------+------------+-------+------------+-------+----------+-------+-----------+------+------+-----------+--------------------+----------+---+----------+----------+\n",
      "|    75|        6|2020-07-19|      1|        14561000|   1|  1|     5|      218415|      2|        3090|    107|2020-01-25|    137|   12420000|     5|   153|Osbaldstone|eosbaldstone2y@ml...|Marie-noël|107|1976-05-11|3178324649|\n",
      "|    72|        5|2020-06-23|      1|         5942500|   1|  2|    27|       89138|      5|        9044|    129|2020-06-20|    113|    5058000|     2|   164| Crossfield|scrossfield3k@360.cn|     Naéva|129|1983-12-29|1588970367|\n",
      "|    72|        3|      NULL|      0|            NULL|   0|  3|  NULL|        NULL|      1|        7075|     79|2020-09-24|    126|   11194000|     2|   158|     Planks|cplanks26@privacy...|    Andrée| 79|1975-08-31|8991471990|\n",
      "|    24|        1|2020-10-23|      1|         1563000|   1|  4|   150|       23445|      6|        6033|     21|2020-02-08|     40|    1332000|     1|   142|  McQuorkel|kmcquorkelk@squid...|   Maëlann| 21|2002-02-07|6847628378|\n",
      "|    45|        4|2020-06-21|      1|        15673000|   1|  5|    69|        NULL|   NULL|        8097|    180|2020-03-25|    137|   13380000|     1|   190|     Dunlop|ddunlop4z@blinkli...| Angélique|180|1961-11-08|6092419769|\n",
      "+------+---------+----------+-------+----------------+----+---+------+------------+-------+------------+-------+----------+-------+-----------+------+------+-----------+--------------------+----------+---+----------+----------+\n"
     ]
    }
   ],
   "source": [
    "result = spark.sql(\"\"\"\n",
    "    SELECT * FROM objekt, personer \n",
    "        WHERE objekt.saljare = personer.id \n",
    "        LIMIT 5\n",
    "\"\"\")\n",
    "result.show()"
   ]
  },
  {
   "cell_type": "markdown",
   "id": "45f2f6b08b7c823a",
   "metadata": {
    "collapsed": false,
    "jupyter": {
     "outputs_hidden": false
    }
   },
   "source": [
    "Vi kan skapa mer komplexa frågor, med UNIONs:\n",
    "C. Vilken storlek på lägenheter säljer snabbast i Skåne? De som är under 50kvm, mellan 50-100kvm eller över 100kvm?"
   ]
  },
  {
   "cell_type": "code",
   "execution_count": 7,
   "id": "d8a5f42aec683a2a",
   "metadata": {
    "ExecuteTime": {
     "end_time": "2024-02-21T19:07:36.553106Z",
     "start_time": "2024-02-21T19:07:35.853734Z"
    },
    "collapsed": false,
    "jupyter": {
     "outputs_hidden": false
    }
   },
   "outputs": [
    {
     "name": "stdout",
     "output_type": "stream",
     "text": [
      "+-----------------+-----+\n",
      "|          storlek|dagar|\n",
      "+-----------------+-----+\n",
      "|Mellan 50–100 kvm|  116|\n",
      "+-----------------+-----+\n"
     ]
    }
   ],
   "source": [
    "result = spark.sql(\"\"\"\n",
    "SELECT \"Mindre än 50 kvm\" AS storlek, ceil(avg(datediff(avslutat, saljstart))) AS dagar FROM objekt WHERE avslutat IS NOT NULL \n",
    "AND storlek < 50\n",
    "UNION\n",
    "SELECT \"Mellan 50–100 kvm\" AS storlek, ceil(avg(datediff(avslutat, saljstart))) AS dagar FROM objekt WHERE avslutat IS NOT NULL \n",
    "AND storlek BETWEEN 50 AND 100\n",
    "UNION\n",
    "SELECT \"Större än 50 kvm\" AS storlek, ceil(avg(datediff(avslutat, saljstart))) AS dagar FROM objekt WHERE avslutat IS NOT NULL \n",
    "AND storlek > 100\n",
    "ORDER BY dagar LIMIT 1\n",
    "\"\"\") \n",
    "result.show()"
   ]
  },
  {
   "cell_type": "markdown",
   "id": "58e2258486142ccf",
   "metadata": {
    "collapsed": false,
    "jupyter": {
     "outputs_hidden": false
    }
   },
   "source": [
    "Men om jag vill kunna skapa VIEWs behöver jag kunna göra queries mot permanenta tabeller. Och om jag vill spara egna permanenta SQL-tabeller eller spara dataframes permanent för SQL-querying, behöver jag konvertera mina dataframes (eller temp views) till tabeller:"
   ]
  },
  {
   "cell_type": "code",
   "execution_count": null,
   "id": "4e0bfa5ce5d57037",
   "metadata": {
    "ExecuteTime": {
     "end_time": "2024-02-21T19:07:38.905407Z",
     "start_time": "2024-02-21T19:07:36.553437Z"
    },
    "collapsed": false,
    "jupyter": {
     "outputs_hidden": false
    }
   },
   "outputs": [],
   "source": [
    "# Skapa en \"hive table\" (permanent tabell). \n",
    "# OBS! Notera att namnet på tabellen inte kan vara samma som min temp view: \n",
    "spark.sql(\"CREATE TABLE objekt_table AS SELECT * FROM objekt\")"
   ]
  },
  {
   "cell_type": "markdown",
   "id": "81e0a114c463edc1",
   "metadata": {
    "collapsed": false,
    "jupyter": {
     "outputs_hidden": false
    }
   },
   "source": [
    "_(Notera att operationerna med att skapa hive-tabeller ger rätt mycket varningar, men fungerar ändå som de ska)_"
   ]
  },
  {
   "cell_type": "markdown",
   "id": "2fa3145d45cf0aaf",
   "metadata": {
    "collapsed": false,
    "jupyter": {
     "outputs_hidden": false
    }
   },
   "source": [
    "Jag kan däremot ersätta min ursprungliga dataframe med en permanent tabell. Så här skulle det kunna se ut:"
   ]
  },
  {
   "cell_type": "code",
   "execution_count": null,
   "id": "cb30b0d46d148e8",
   "metadata": {
    "ExecuteTime": {
     "start_time": "2024-02-21T19:07:38.890746Z"
    },
    "collapsed": false,
    "jupyter": {
     "outputs_hidden": false
    }
   },
   "outputs": [],
   "source": [
    "# Läser in en JSON-fil till en dataframe\n",
    "bostadsratter = spark.read.json(\"spark-warehouse/bostadsratter.json\", multiLine=True)\n",
    "\n",
    "# Skapa en temp-view\n",
    "bostadsratter.createOrReplaceTempView(\"bostadsratter_temp_view\")\n",
    "\n",
    "# Skapa en hive-tabell från min temp-view\n",
    "spark.sql(\"CREATE TABLE bostadsratter AS SELECT * FROM bostadsratter_temp_view\")"
   ]
  },
  {
   "cell_type": "code",
   "execution_count": null,
   "id": "970bcfcfff04d48e",
   "metadata": {
    "ExecuteTime": {
     "start_time": "2024-02-21T19:07:38.892710Z"
    },
    "collapsed": false,
    "jupyter": {
     "outputs_hidden": false
    }
   },
   "outputs": [],
   "source": [
    "result = spark.sql(\"SELECT * FROM bostadsratter\")\n",
    "result.show(3,0)"
   ]
  },
  {
   "cell_type": "markdown",
   "id": "4f88a035c3fedd6",
   "metadata": {
    "collapsed": false,
    "jupyter": {
     "outputs_hidden": false
    }
   },
   "source": [
    "Nu kan vi skapa VIEWs:"
   ]
  },
  {
   "cell_type": "code",
   "execution_count": null,
   "id": "23e5ddeed1daaf72",
   "metadata": {
    "ExecuteTime": {
     "start_time": "2024-02-21T19:07:38.894826Z"
    },
    "collapsed": false,
    "jupyter": {
     "outputs_hidden": false
    }
   },
   "outputs": [],
   "source": [
    "spark.sql(\"CREATE OR REPLACE VIEW bostadsratter_till_forsaljning AS SELECT * FROM bostadsratter WHERE avslutat IS NOT NULL\")"
   ]
  },
  {
   "cell_type": "code",
   "execution_count": null,
   "id": "bf512c58434a0fc9",
   "metadata": {
    "ExecuteTime": {
     "start_time": "2024-02-21T19:07:38.897286Z"
    },
    "collapsed": false,
    "jupyter": {
     "outputs_hidden": false
    }
   },
   "outputs": [],
   "source": [
    "result = spark.sql(\"SELECT * FROM bostadsratter_till_forsaljning\")\n",
    "result.show(3,0)"
   ]
  },
  {
   "cell_type": "code",
   "execution_count": 9,
   "id": "68355aec57f097cf",
   "metadata": {
    "ExecuteTime": {
     "end_time": "2024-02-21T19:07:53.655350Z",
     "start_time": "2024-02-21T19:07:53.142830Z"
    },
    "collapsed": false,
    "jupyter": {
     "outputs_hidden": false
    }
   },
   "outputs": [
    {
     "name": "stdout",
     "output_type": "stream",
     "text": [
      "+-----------------+-----+\n",
      "|          storlek|dagar|\n",
      "+-----------------+-----+\n",
      "| Mindre än 50 kvm|  156|\n",
      "|Mellan 50–100 kvm|  116|\n",
      "| Större än 50 kvm|  135|\n",
      "+-----------------+-----+\n"
     ]
    }
   ],
   "source": [
    "result = spark.sql(\"\"\"\n",
    "SELECT \"Mindre än 50 kvm\" AS storlek, ceil(avg(datediff(avslutat, saljstart))) AS dagar FROM objekt WHERE avslutat IS NOT NULL \n",
    "AND storlek < 50\n",
    "UNION\n",
    "SELECT \"Mellan 50–100 kvm\" AS storlek, ceil(avg(datediff(avslutat, saljstart))) AS dagar FROM objekt WHERE avslutat IS NOT NULL \n",
    "AND storlek BETWEEN 50 AND 100\n",
    "UNION\n",
    "SELECT \"Större än 50 kvm\" AS storlek, ceil(avg(datediff(avslutat, saljstart))) AS dagar FROM objekt WHERE avslutat IS NOT NULL \n",
    "AND storlek > 100\n",
    "\"\"\") \n",
    "result.show()"
   ]
  },
  {
   "cell_type": "markdown",
   "id": "c80b4bfd8992b244",
   "metadata": {
    "collapsed": false,
    "jupyter": {
     "outputs_hidden": false
    }
   },
   "source": []
  },
  {
   "cell_type": "code",
   "execution_count": 10,
   "id": "a0480c923a5448c5",
   "metadata": {
    "ExecuteTime": {
     "end_time": "2024-02-21T19:08:24.677042Z",
     "start_time": "2024-02-21T19:08:23.737147Z"
    },
    "collapsed": false,
    "jupyter": {
     "outputs_hidden": false
    }
   },
   "outputs": [],
   "source": [
    "pandas_storlekar = result.toPandas()\n"
   ]
  },
  {
   "cell_type": "code",
   "execution_count": 13,
   "id": "2df0923a92031d49",
   "metadata": {
    "ExecuteTime": {
     "end_time": "2024-02-21T19:09:15.866145Z",
     "start_time": "2024-02-21T19:09:15.630829Z"
    },
    "collapsed": false,
    "jupyter": {
     "outputs_hidden": false
    }
   },
   "outputs": [
    {
     "data": {
      "image/png": "[encoded data removed]",
      "text/plain": [
       "<Figure size 640x480 with 1 Axes>"
      ]
     },
     "metadata": {},
     "output_type": "display_data"
    }
   ],
   "source": [
    "import matplotlib.pyplot as plt\n",
    "\n",
    "# Simple bar plot\n",
    "pandas_storlekar.plot(kind='bar', x='storlek', y='dagar')\n",
    "plt.show()\n"
   ]
  },
  {
   "cell_type": "code",
   "execution_count": 34,
   "id": "4390d6c60f942e57",
   "metadata": {
    "ExecuteTime": {
     "end_time": "2024-02-21T20:14:13.424122Z",
     "start_time": "2024-02-21T20:14:13.038145Z"
    },
    "collapsed": false,
    "jupyter": {
     "outputs_hidden": false
    }
   },
   "outputs": [],
   "source": [
    "maklarobjekt_view = spark.sql(\"SELECT CONCAT(YEAR(saljstart),'-',MONTH(saljstart)) AS manad, COUNT(id) AS nya_objekt FROM bostadsratter WHERE avslutat IS NOT NULL AND maklare IS NOT NULL GROUP BY YEAR(saljstart), MONTH(saljstart) ORDER BY YEAR(saljstart), MONTH(saljstart)\")\n",
    "maklarobjekt = maklarobjekt_view.toPandas()"
   ]
  },
  {
   "cell_type": "code",
   "execution_count": 35,
   "id": "1aafbb37ba825a67",
   "metadata": {
    "ExecuteTime": {
     "end_time": "2024-02-21T20:14:15.406064Z",
     "start_time": "2024-02-21T20:14:15.027491Z"
    },
    "collapsed": false,
    "jupyter": {
     "outputs_hidden": false
    }
   },
   "outputs": [],
   "source": [
    "privatobjekt_view = spark.sql(\"SELECT CONCAT(YEAR(saljstart),'-',MONTH(saljstart)) AS manad, COUNT(id) AS nya_objekt FROM bostadsratter WHERE avslutat IS NOT NULL AND maklare IS NULL GROUP BY YEAR(saljstart), MONTH(saljstart) ORDER BY YEAR(saljstart), MONTH(saljstart)\")\n",
    "privatobjekt = privatobjekt_view.toPandas()"
   ]
  },
  {
   "cell_type": "code",
   "execution_count": 37,
   "id": "5afde40375881e4c",
   "metadata": {
    "ExecuteTime": {
     "end_time": "2024-02-21T20:14:44.879379Z",
     "start_time": "2024-02-21T20:14:44.629759Z"
    },
    "collapsed": false,
    "jupyter": {
     "outputs_hidden": false
    }
   },
   "outputs": [
    {
     "data": {
      "image/png": "[encoded data removed]",
      "text/plain": [
       "<Figure size 1200x600 with 1 Axes>"
      ]
     },
     "metadata": {},
     "output_type": "display_data"
    }
   ],
   "source": [
    "plt.figure(figsize=(12, 6))\n",
    "plt.plot(maklarobjekt['manad'], maklarobjekt['nya_objekt'], marker='o', linestyle='-', color='b', label='från mäklare')\n",
    "plt.plot(privatobjekt['manad'], privatobjekt['nya_objekt'], marker='o', linestyle='-', color='r', label='privata')\n",
    "plt.title('Nya maklarobjekt per månad jämfört med privatobjekt')\n",
    "plt.xlabel('Månad')\n",
    "plt.ylabel('Nya objekt')\n",
    "plt.xticks(rotation=45)\n",
    "plt.legend()\n",
    "plt.grid(True)\n",
    "plt.show()\n"
   ]
  },
  {
   "cell_type": "code",
   "execution_count": null,
   "id": "af3a3d60e040867",
   "metadata": {
    "collapsed": false,
    "jupyter": {
     "outputs_hidden": false
    }
   },
   "outputs": [],
   "source": []
  }
 ],
 "metadata": {
  "kernelspec": {
   "display_name": "Python 3 (ipykernel)",
   "language": "python",
   "name": "python3"
  },
  "language_info": {
   "codemirror_mode": {
    "name": "ipython",
    "version": 3
   },
   "file_extension": ".py",
   "mimetype": "text/x-python",
   "name": "python",
   "nbconvert_exporter": "python",
   "pygments_lexer": "ipython3",
   "version": "3.11.0"
  }
 },
 "nbformat": 4,
 "nbformat_minor": 5
}
