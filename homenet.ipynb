{
 "cells": [
  {
   "cell_type": "markdown",
   "source": [
    "# Homenet"
   ],
   "metadata": {
    "collapsed": false
   },
   "id": "9061b279bbc7effe"
  },
  {
   "cell_type": "code",
   "outputs": [],
   "source": [
    "from pyspark.sql import SparkSession\n",
    "spark = SparkSession.builder.appName(\"Homenet\").config(\"spark.memory.offHeap.enabled\", \"true\").config(\n",
    "    \"spark.memory.offHeap.size\", \"10g\").getOrCreate()"
   ],
   "metadata": {
    "collapsed": true
   },
   "id": "initial_id",
   "execution_count": null
  },
  {
   "cell_type": "code",
   "outputs": [],
   "source": [
    "adresser = spark.read.json(\"spark-warehouse/adresser.json\", multiLine=True)\n",
    "adresser.createOrReplaceTempView(\"adresser\")\n",
    "\n",
    "maklare = spark.read.json(\"spark-warehouse/maklare.json\", multiLine=True)\n",
    "maklare.createOrReplaceTempView(\"maklare\")\n",
    "\n",
    "objekt = spark.read.json(\"spark-warehouse/objekt.json\", multiLine=True)\n",
    "objekt.createOrReplaceTempView(\"objekt\")\n",
    "\n",
    "personer = spark.read.json(\"spark-warehouse/personer.json\", multiLine=True)\n",
    "personer.createOrReplaceTempView(\"personer\")"
   ],
   "metadata": {
    "collapsed": false
   },
   "id": "d3f589ac59bbbd",
   "execution_count": null
  },
  {
   "cell_type": "code",
   "outputs": [],
   "source": [
    "objekt.printSchema()"
   ],
   "metadata": {
    "collapsed": false
   },
   "id": "3e4e5a3d2ad54cd5",
   "execution_count": null
  },
  {
   "cell_type": "code",
   "outputs": [],
   "source": [
    "objekt.show(1,0)"
   ],
   "metadata": {
    "collapsed": false
   },
   "id": "67aa2062cff5ebc3",
   "execution_count": null
  },
  {
   "cell_type": "code",
   "outputs": [],
   "source": [
    "result = spark.sql(\"SELECT * FROM personer LIMIT 5\")\n",
    "result.show()"
   ],
   "metadata": {
    "collapsed": false
   },
   "id": "80ce6d6f63253013",
   "execution_count": null
  },
  {
   "cell_type": "code",
   "outputs": [],
   "source": [
    "result = spark.sql(\"\"\"\n",
    "    SELECT * FROM objekt, personer \n",
    "        WHERE objekt.saljare = personer.id \n",
    "        LIMIT 50\n",
    "\"\"\")\n",
    "result.show()"
   ],
   "metadata": {
    "collapsed": false
   },
   "id": "bfe6fdf1edce57f8",
   "execution_count": null
  },
  {
   "cell_type": "markdown",
   "source": [
    "C. Vilken storlek på lägenheter säljer snabbast i Skåne? De som är under 50kvm, mellan 50-100kvm eller över 100kvm?"
   ],
   "metadata": {
    "collapsed": false
   },
   "id": "45f2f6b08b7c823a"
  },
  {
   "cell_type": "code",
   "outputs": [],
   "source": [
    "result = spark.sql(\"\"\"\n",
    "SELECT \"Mindre än 50 kvm\" AS storlek, ceil(avg(datediff(avslutat, saljstart))) AS dagar FROM objekt WHERE avslutat IS NOT NULL \n",
    "AND storlek < 50\n",
    "UNION\n",
    "SELECT \"Mellan 50–100 kvm\" AS storlek, ceil(avg(datediff(avslutat, saljstart))) AS dagar FROM objekt WHERE avslutat IS NOT NULL \n",
    "AND storlek BETWEEN 50 AND 100\n",
    "UNION\n",
    "SELECT \"Större än 50 kvm\" AS storlek, ceil(avg(datediff(avslutat, saljstart))) AS dagar FROM objekt WHERE avslutat IS NOT NULL \n",
    "AND storlek > 100\n",
    "ORDER BY dagar LIMIT 1\n",
    "\"\"\") \n",
    "result.show()"
   ],
   "metadata": {
    "collapsed": false
   },
   "id": "d8a5f42aec683a2a",
   "execution_count": null
  },
  {
   "cell_type": "code",
   "outputs": [],
   "source": [],
   "metadata": {
    "collapsed": false
   },
   "id": "cb30b0d46d148e8"
  }
 ],
 "metadata": {
  "kernelspec": {
   "display_name": "Python 3",
   "language": "python",
   "name": "python3"
  },
  "language_info": {
   "codemirror_mode": {
    "name": "ipython",
    "version": 2
   },
   "file_extension": ".py",
   "mimetype": "text/x-python",
   "name": "python",
   "nbconvert_exporter": "python",
   "pygments_lexer": "ipython2",
   "version": "2.7.6"
  }
 },
 "nbformat": 4,
 "nbformat_minor": 5
}
